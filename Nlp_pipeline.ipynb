{
  "nbformat": 4,
  "nbformat_minor": 0,
  "metadata": {
    "colab": {
      "name": "Nlp_pipeline.ipynb",
      "provenance": [],
      "collapsed_sections": [],
      "authorship_tag": "ABX9TyNrrqwYHJ3BOihRTHhc35UO",
      "include_colab_link": true
    },
    "kernelspec": {
      "name": "python3",
      "display_name": "Python 3"
    }
  },
  "cells": [
    {
      "cell_type": "markdown",
      "metadata": {
        "id": "view-in-github",
        "colab_type": "text"
      },
      "source": [
        "<a href=\"https://colab.research.google.com/github/Aniket10081998/Additional-projects/blob/master/Nlp_pipeline.ipynb\" target=\"_parent\"><img src=\"https://colab.research.google.com/assets/colab-badge.svg\" alt=\"Open In Colab\"/></a>"
      ]
    },
    {
      "cell_type": "code",
      "metadata": {
        "id": "IW6lx57lISWv",
        "outputId": "3a26086b-c684-4b95-9007-d6f58bced8f4",
        "colab": {
          "base_uri": "https://localhost:8080/",
          "height": 136
        }
      },
      "source": [
        "pip install stanfordcorenlp"
      ],
      "execution_count": null,
      "outputs": [
        {
          "output_type": "stream",
          "text": [
            "Requirement already satisfied: stanfordcorenlp in /usr/local/lib/python3.6/dist-packages (3.9.1.1)\n",
            "Requirement already satisfied: psutil in /usr/local/lib/python3.6/dist-packages (from stanfordcorenlp) (5.4.8)\n",
            "Requirement already satisfied: requests in /usr/local/lib/python3.6/dist-packages (from stanfordcorenlp) (2.23.0)\n",
            "Requirement already satisfied: idna<3,>=2.5 in /usr/local/lib/python3.6/dist-packages (from requests->stanfordcorenlp) (2.10)\n",
            "Requirement already satisfied: urllib3!=1.25.0,!=1.25.1,<1.26,>=1.21.1 in /usr/local/lib/python3.6/dist-packages (from requests->stanfordcorenlp) (1.24.3)\n",
            "Requirement already satisfied: certifi>=2017.4.17 in /usr/local/lib/python3.6/dist-packages (from requests->stanfordcorenlp) (2020.6.20)\n",
            "Requirement already satisfied: chardet<4,>=3.0.2 in /usr/local/lib/python3.6/dist-packages (from requests->stanfordcorenlp) (3.0.4)\n"
          ],
          "name": "stdout"
        }
      ]
    },
    {
      "cell_type": "code",
      "metadata": {
        "id": "UkdmiKSEJp-B"
      },
      "source": [
        "import nltk\n",
        "from nltk.tokenize import sent_tokenize ,word_tokenize\n",
        "from nltk.stem import WordNetLemmatizer\n",
        "from nltk.corpus import stopwords\n",
        "from nltk.grammar import DependencyGrammar\n",
        "from nltk.corpus import treebank\n",
        "from stanfordcorenlp import StanfordCoreNLP\n",
        "import spacy\n",
        "nlp = spacy.load('en_core_web_sm')"
      ],
      "execution_count": null,
      "outputs": []
    },
    {
      "cell_type": "code",
      "metadata": {
        "id": "d5YE0uIPJuIa"
      },
      "source": [
        "text=\"Indians give special importance to their festivals. Special arrangements are made for the celebration of various festivals each year. Be it the villages or the big cities there is joy all around. All the places are decked up during the festival season. Some of the main Indian festivals include Diwali, Holi, Raksha Bandhan, Ganesh Chaturthi, Durga Puja, Dussehra, Pongal and Bhai Duj. People in our country love celebrating the festivals with their near and dear ones. Each Indian festival has its own unique way of celebration and people follow the tradition while celebrating the same. However, some things remain common for instance people decorate their houses with flowers and lights during the festivals and wear new clothes. They visit each other and exchange gifts. Special sweets are prepared at home to treat the guests. People of India also hold great regard for the National festivals of the country.\""
      ],
      "execution_count": null,
      "outputs": []
    },
    {
      "cell_type": "code",
      "metadata": {
        "id": "gd44JjPvKCDu",
        "outputId": "89535f91-c0ce-4b25-ca43-2be04107c915",
        "colab": {
          "base_uri": "https://localhost:8080/",
          "height": 68
        }
      },
      "source": [
        "nltk.download('punkt')"
      ],
      "execution_count": null,
      "outputs": [
        {
          "output_type": "stream",
          "text": [
            "[nltk_data] Downloading package punkt to /root/nltk_data...\n",
            "[nltk_data]   Package punkt is already up-to-date!\n"
          ],
          "name": "stdout"
        },
        {
          "output_type": "execute_result",
          "data": {
            "text/plain": [
              "True"
            ]
          },
          "metadata": {
            "tags": []
          },
          "execution_count": 4
        }
      ]
    },
    {
      "cell_type": "code",
      "metadata": {
        "id": "I5C_axItKUfX"
      },
      "source": [
        "sentences=sent_tokenize(text)"
      ],
      "execution_count": null,
      "outputs": []
    },
    {
      "cell_type": "code",
      "metadata": {
        "id": "b373q3l1KnLV",
        "outputId": "f9f6a7fa-d557-4d76-bed8-90b4cfc3c91c",
        "colab": {
          "base_uri": "https://localhost:8080/",
          "height": 391
        }
      },
      "source": [
        "d=1\n",
        "for sentence in sentences:\n",
        "    print(\"Sentence No.\"+str(d)+\" \"+sentence)\n",
        "    print(\"*\"*20)\n",
        "    d+=1"
      ],
      "execution_count": null,
      "outputs": [
        {
          "output_type": "stream",
          "text": [
            "Sentence No.1 Indians give special importance to their festivals.\n",
            "********************\n",
            "Sentence No.2 Special arrangements are made for the celebration of various festivals each year.\n",
            "********************\n",
            "Sentence No.3 Be it the villages or the big cities there is joy all around.\n",
            "********************\n",
            "Sentence No.4 All the places are decked up during the festival season.\n",
            "********************\n",
            "Sentence No.5 Some of the main Indian festivals include Diwali, Holi, Raksha Bandhan, Ganesh Chaturthi, Durga Puja, Dussehra, Pongal and Bhai Duj.\n",
            "********************\n",
            "Sentence No.6 People in our country love celebrating the festivals with their near and dear ones.\n",
            "********************\n",
            "Sentence No.7 Each Indian festival has its own unique way of celebration and people follow the tradition while celebrating the same.\n",
            "********************\n",
            "Sentence No.8 However, some things remain common for instance people decorate their houses with flowers and lights during the festivals and wear new clothes.\n",
            "********************\n",
            "Sentence No.9 They visit each other and exchange gifts.\n",
            "********************\n",
            "Sentence No.10 Special sweets are prepared at home to treat the guests.\n",
            "********************\n",
            "Sentence No.11 People of India also hold great regard for the National festivals of the country.\n",
            "********************\n"
          ],
          "name": "stdout"
        }
      ]
    },
    {
      "cell_type": "code",
      "metadata": {
        "id": "qVQY2fbPKqeU",
        "outputId": "46299b0d-10d3-4e7e-f1bb-15263926d769",
        "colab": {
          "base_uri": "https://localhost:8080/",
          "height": 411
        }
      },
      "source": [
        "words=[]\n",
        "for sentence in sentences:\n",
        "    words.append(word_tokenize(sentence))\n",
        "    \n",
        "d=1\n",
        "for word in words:\n",
        "    print(\"Sentence No.\"+str(d)+\" \",word)\n",
        "    print(\"*\"*20)\n",
        "    d+=1"
      ],
      "execution_count": null,
      "outputs": [
        {
          "output_type": "stream",
          "text": [
            "Sentence No.1  ['Indians', 'give', 'special', 'importance', 'to', 'their', 'festivals', '.']\n",
            "********************\n",
            "Sentence No.2  ['Special', 'arrangements', 'are', 'made', 'for', 'the', 'celebration', 'of', 'various', 'festivals', 'each', 'year', '.']\n",
            "********************\n",
            "Sentence No.3  ['Be', 'it', 'the', 'villages', 'or', 'the', 'big', 'cities', 'there', 'is', 'joy', 'all', 'around', '.']\n",
            "********************\n",
            "Sentence No.4  ['All', 'the', 'places', 'are', 'decked', 'up', 'during', 'the', 'festival', 'season', '.']\n",
            "********************\n",
            "Sentence No.5  ['Some', 'of', 'the', 'main', 'Indian', 'festivals', 'include', 'Diwali', ',', 'Holi', ',', 'Raksha', 'Bandhan', ',', 'Ganesh', 'Chaturthi', ',', 'Durga', 'Puja', ',', 'Dussehra', ',', 'Pongal', 'and', 'Bhai', 'Duj', '.']\n",
            "********************\n",
            "Sentence No.6  ['People', 'in', 'our', 'country', 'love', 'celebrating', 'the', 'festivals', 'with', 'their', 'near', 'and', 'dear', 'ones', '.']\n",
            "********************\n",
            "Sentence No.7  ['Each', 'Indian', 'festival', 'has', 'its', 'own', 'unique', 'way', 'of', 'celebration', 'and', 'people', 'follow', 'the', 'tradition', 'while', 'celebrating', 'the', 'same', '.']\n",
            "********************\n",
            "Sentence No.8  ['However', ',', 'some', 'things', 'remain', 'common', 'for', 'instance', 'people', 'decorate', 'their', 'houses', 'with', 'flowers', 'and', 'lights', 'during', 'the', 'festivals', 'and', 'wear', 'new', 'clothes', '.']\n",
            "********************\n",
            "Sentence No.9  ['They', 'visit', 'each', 'other', 'and', 'exchange', 'gifts', '.']\n",
            "********************\n",
            "Sentence No.10  ['Special', 'sweets', 'are', 'prepared', 'at', 'home', 'to', 'treat', 'the', 'guests', '.']\n",
            "********************\n",
            "Sentence No.11  ['People', 'of', 'India', 'also', 'hold', 'great', 'regard', 'for', 'the', 'National', 'festivals', 'of', 'the', 'country', '.']\n",
            "********************\n"
          ],
          "name": "stdout"
        }
      ]
    },
    {
      "cell_type": "code",
      "metadata": {
        "id": "IH1ya0VnK5aZ",
        "outputId": "b4e7e468-9c03-492f-96d7-084b94bdf551",
        "colab": {
          "base_uri": "https://localhost:8080/",
          "height": 102
        }
      },
      "source": [
        "nltk.download('averaged_perceptron_tagger')"
      ],
      "execution_count": null,
      "outputs": [
        {
          "output_type": "stream",
          "text": [
            "[nltk_data] Downloading package averaged_perceptron_tagger to\n",
            "[nltk_data]     /root/nltk_data...\n",
            "[nltk_data]   Package averaged_perceptron_tagger is already up-to-\n",
            "[nltk_data]       date!\n"
          ],
          "name": "stdout"
        },
        {
          "output_type": "execute_result",
          "data": {
            "text/plain": [
              "True"
            ]
          },
          "metadata": {
            "tags": []
          },
          "execution_count": 8
        }
      ]
    },
    {
      "cell_type": "code",
      "metadata": {
        "id": "ThSYJpVCLDxx",
        "outputId": "5b9be302-d07e-4a92-aae9-c5fc043e0104",
        "colab": {
          "base_uri": "https://localhost:8080/",
          "height": 224
        }
      },
      "source": [
        "possy=[]\n",
        "d=1\n",
        "for word in words:\n",
        "    possy.append(nltk.pos_tag(word))\n",
        "for pos in possy:\n",
        "    print(\"Sentence No.\"+str(d)+\" \",pos)\n",
        "    d+=1\n"
      ],
      "execution_count": null,
      "outputs": [
        {
          "output_type": "stream",
          "text": [
            "Sentence No.1  [('Indians', 'NNS'), ('give', 'VBP'), ('special', 'JJ'), ('importance', 'NN'), ('to', 'TO'), ('their', 'PRP$'), ('festivals', 'NNS'), ('.', '.')]\n",
            "Sentence No.2  [('Special', 'JJ'), ('arrangements', 'NNS'), ('are', 'VBP'), ('made', 'VBN'), ('for', 'IN'), ('the', 'DT'), ('celebration', 'NN'), ('of', 'IN'), ('various', 'JJ'), ('festivals', 'NNS'), ('each', 'DT'), ('year', 'NN'), ('.', '.')]\n",
            "Sentence No.3  [('Be', 'VB'), ('it', 'PRP'), ('the', 'DT'), ('villages', 'NNS'), ('or', 'CC'), ('the', 'DT'), ('big', 'JJ'), ('cities', 'NNS'), ('there', 'EX'), ('is', 'VBZ'), ('joy', 'NN'), ('all', 'DT'), ('around', 'IN'), ('.', '.')]\n",
            "Sentence No.4  [('All', 'PDT'), ('the', 'DT'), ('places', 'NNS'), ('are', 'VBP'), ('decked', 'VBN'), ('up', 'RP'), ('during', 'IN'), ('the', 'DT'), ('festival', 'NN'), ('season', 'NN'), ('.', '.')]\n",
            "Sentence No.5  [('Some', 'DT'), ('of', 'IN'), ('the', 'DT'), ('main', 'JJ'), ('Indian', 'JJ'), ('festivals', 'NNS'), ('include', 'VBP'), ('Diwali', 'NNP'), (',', ','), ('Holi', 'NNP'), (',', ','), ('Raksha', 'NNP'), ('Bandhan', 'NNP'), (',', ','), ('Ganesh', 'NNP'), ('Chaturthi', 'NNP'), (',', ','), ('Durga', 'NNP'), ('Puja', 'NNP'), (',', ','), ('Dussehra', 'NNP'), (',', ','), ('Pongal', 'NNP'), ('and', 'CC'), ('Bhai', 'NNP'), ('Duj', 'NNP'), ('.', '.')]\n",
            "Sentence No.6  [('People', 'NNS'), ('in', 'IN'), ('our', 'PRP$'), ('country', 'NN'), ('love', 'VB'), ('celebrating', 'VBG'), ('the', 'DT'), ('festivals', 'NNS'), ('with', 'IN'), ('their', 'PRP$'), ('near', 'JJ'), ('and', 'CC'), ('dear', 'JJ'), ('ones', 'NNS'), ('.', '.')]\n",
            "Sentence No.7  [('Each', 'DT'), ('Indian', 'JJ'), ('festival', 'NN'), ('has', 'VBZ'), ('its', 'PRP$'), ('own', 'JJ'), ('unique', 'JJ'), ('way', 'NN'), ('of', 'IN'), ('celebration', 'NN'), ('and', 'CC'), ('people', 'NNS'), ('follow', 'VBP'), ('the', 'DT'), ('tradition', 'NN'), ('while', 'IN'), ('celebrating', 'VBG'), ('the', 'DT'), ('same', 'JJ'), ('.', '.')]\n",
            "Sentence No.8  [('However', 'RB'), (',', ','), ('some', 'DT'), ('things', 'NNS'), ('remain', 'VBP'), ('common', 'JJ'), ('for', 'IN'), ('instance', 'NN'), ('people', 'NNS'), ('decorate', 'VBP'), ('their', 'PRP$'), ('houses', 'NNS'), ('with', 'IN'), ('flowers', 'NNS'), ('and', 'CC'), ('lights', 'NNS'), ('during', 'IN'), ('the', 'DT'), ('festivals', 'NNS'), ('and', 'CC'), ('wear', 'JJ'), ('new', 'JJ'), ('clothes', 'NNS'), ('.', '.')]\n",
            "Sentence No.9  [('They', 'PRP'), ('visit', 'VBP'), ('each', 'DT'), ('other', 'JJ'), ('and', 'CC'), ('exchange', 'NN'), ('gifts', 'NNS'), ('.', '.')]\n",
            "Sentence No.10  [('Special', 'JJ'), ('sweets', 'NNS'), ('are', 'VBP'), ('prepared', 'VBN'), ('at', 'IN'), ('home', 'NN'), ('to', 'TO'), ('treat', 'VB'), ('the', 'DT'), ('guests', 'NNS'), ('.', '.')]\n",
            "Sentence No.11  [('People', 'NNS'), ('of', 'IN'), ('India', 'NNP'), ('also', 'RB'), ('hold', 'VBP'), ('great', 'JJ'), ('regard', 'NN'), ('for', 'IN'), ('the', 'DT'), ('National', 'NNP'), ('festivals', 'NNS'), ('of', 'IN'), ('the', 'DT'), ('country', 'NN'), ('.', '.')]\n"
          ],
          "name": "stdout"
        }
      ]
    },
    {
      "cell_type": "code",
      "metadata": {
        "id": "HF1QPLuSLJLz",
        "outputId": "673e9ae4-13b5-46f7-93a6-3466a88d1e51",
        "colab": {
          "base_uri": "https://localhost:8080/",
          "height": 68
        }
      },
      "source": [
        "nltk.download('wordnet')"
      ],
      "execution_count": null,
      "outputs": [
        {
          "output_type": "stream",
          "text": [
            "[nltk_data] Downloading package wordnet to /root/nltk_data...\n",
            "[nltk_data]   Package wordnet is already up-to-date!\n"
          ],
          "name": "stdout"
        },
        {
          "output_type": "execute_result",
          "data": {
            "text/plain": [
              "True"
            ]
          },
          "metadata": {
            "tags": []
          },
          "execution_count": 10
        }
      ]
    },
    {
      "cell_type": "code",
      "metadata": {
        "id": "WVVCSXV_LOgW",
        "outputId": "1022d552-098b-4fa7-efae-f4cfc048c5db",
        "colab": {
          "base_uri": "https://localhost:8080/",
          "height": 598
        }
      },
      "source": [
        "d=1\n",
        "lemmatizer = WordNetLemmatizer()\n",
        "lemmas = []\n",
        "for word in words:\n",
        "    t=[]\n",
        "    for each_word in word:\n",
        "        lemma = lemmatizer.lemmatize(each_word, pos='v')\n",
        "        t.append(lemma)\n",
        "    print(\"Sentence No.\"+str(d))\n",
        "    print(\"Before Lemmatization : \",word)\n",
        "    print(\"After Lemmatization : \" ,t)\n",
        "    lemmas.append(t)\n",
        "    d+=1"
      ],
      "execution_count": null,
      "outputs": [
        {
          "output_type": "stream",
          "text": [
            "Sentence No.1\n",
            "Before Lemmatization :  ['Indians', 'give', 'special', 'importance', 'to', 'their', 'festivals', '.']\n",
            "After Lemmatization :  ['Indians', 'give', 'special', 'importance', 'to', 'their', 'festivals', '.']\n",
            "Sentence No.2\n",
            "Before Lemmatization :  ['Special', 'arrangements', 'are', 'made', 'for', 'the', 'celebration', 'of', 'various', 'festivals', 'each', 'year', '.']\n",
            "After Lemmatization :  ['Special', 'arrangements', 'be', 'make', 'for', 'the', 'celebration', 'of', 'various', 'festivals', 'each', 'year', '.']\n",
            "Sentence No.3\n",
            "Before Lemmatization :  ['Be', 'it', 'the', 'villages', 'or', 'the', 'big', 'cities', 'there', 'is', 'joy', 'all', 'around', '.']\n",
            "After Lemmatization :  ['Be', 'it', 'the', 'villages', 'or', 'the', 'big', 'cities', 'there', 'be', 'joy', 'all', 'around', '.']\n",
            "Sentence No.4\n",
            "Before Lemmatization :  ['All', 'the', 'places', 'are', 'decked', 'up', 'during', 'the', 'festival', 'season', '.']\n",
            "After Lemmatization :  ['All', 'the', 'place', 'be', 'deck', 'up', 'during', 'the', 'festival', 'season', '.']\n",
            "Sentence No.5\n",
            "Before Lemmatization :  ['Some', 'of', 'the', 'main', 'Indian', 'festivals', 'include', 'Diwali', ',', 'Holi', ',', 'Raksha', 'Bandhan', ',', 'Ganesh', 'Chaturthi', ',', 'Durga', 'Puja', ',', 'Dussehra', ',', 'Pongal', 'and', 'Bhai', 'Duj', '.']\n",
            "After Lemmatization :  ['Some', 'of', 'the', 'main', 'Indian', 'festivals', 'include', 'Diwali', ',', 'Holi', ',', 'Raksha', 'Bandhan', ',', 'Ganesh', 'Chaturthi', ',', 'Durga', 'Puja', ',', 'Dussehra', ',', 'Pongal', 'and', 'Bhai', 'Duj', '.']\n",
            "Sentence No.6\n",
            "Before Lemmatization :  ['People', 'in', 'our', 'country', 'love', 'celebrating', 'the', 'festivals', 'with', 'their', 'near', 'and', 'dear', 'ones', '.']\n",
            "After Lemmatization :  ['People', 'in', 'our', 'country', 'love', 'celebrate', 'the', 'festivals', 'with', 'their', 'near', 'and', 'dear', 'ones', '.']\n",
            "Sentence No.7\n",
            "Before Lemmatization :  ['Each', 'Indian', 'festival', 'has', 'its', 'own', 'unique', 'way', 'of', 'celebration', 'and', 'people', 'follow', 'the', 'tradition', 'while', 'celebrating', 'the', 'same', '.']\n",
            "After Lemmatization :  ['Each', 'Indian', 'festival', 'have', 'its', 'own', 'unique', 'way', 'of', 'celebration', 'and', 'people', 'follow', 'the', 'tradition', 'while', 'celebrate', 'the', 'same', '.']\n",
            "Sentence No.8\n",
            "Before Lemmatization :  ['However', ',', 'some', 'things', 'remain', 'common', 'for', 'instance', 'people', 'decorate', 'their', 'houses', 'with', 'flowers', 'and', 'lights', 'during', 'the', 'festivals', 'and', 'wear', 'new', 'clothes', '.']\n",
            "After Lemmatization :  ['However', ',', 'some', 'things', 'remain', 'common', 'for', 'instance', 'people', 'decorate', 'their', 'house', 'with', 'flower', 'and', 'light', 'during', 'the', 'festivals', 'and', 'wear', 'new', 'clothe', '.']\n",
            "Sentence No.9\n",
            "Before Lemmatization :  ['They', 'visit', 'each', 'other', 'and', 'exchange', 'gifts', '.']\n",
            "After Lemmatization :  ['They', 'visit', 'each', 'other', 'and', 'exchange', 'gift', '.']\n",
            "Sentence No.10\n",
            "Before Lemmatization :  ['Special', 'sweets', 'are', 'prepared', 'at', 'home', 'to', 'treat', 'the', 'guests', '.']\n",
            "After Lemmatization :  ['Special', 'sweets', 'be', 'prepare', 'at', 'home', 'to', 'treat', 'the', 'guests', '.']\n",
            "Sentence No.11\n",
            "Before Lemmatization :  ['People', 'of', 'India', 'also', 'hold', 'great', 'regard', 'for', 'the', 'National', 'festivals', 'of', 'the', 'country', '.']\n",
            "After Lemmatization :  ['People', 'of', 'India', 'also', 'hold', 'great', 'regard', 'for', 'the', 'National', 'festivals', 'of', 'the', 'country', '.']\n"
          ],
          "name": "stdout"
        }
      ]
    },
    {
      "cell_type": "code",
      "metadata": {
        "id": "WFOdFKoaLUpD",
        "outputId": "5f9668ef-2a11-4a12-c92f-baf9576f1f5d",
        "colab": {
          "base_uri": "https://localhost:8080/",
          "height": 68
        }
      },
      "source": [
        "nltk.download('stopwords')"
      ],
      "execution_count": null,
      "outputs": [
        {
          "output_type": "stream",
          "text": [
            "[nltk_data] Downloading package stopwords to /root/nltk_data...\n",
            "[nltk_data]   Package stopwords is already up-to-date!\n"
          ],
          "name": "stdout"
        },
        {
          "output_type": "execute_result",
          "data": {
            "text/plain": [
              "True"
            ]
          },
          "metadata": {
            "tags": []
          },
          "execution_count": 12
        }
      ]
    },
    {
      "cell_type": "code",
      "metadata": {
        "id": "4vYwHLyNLYzM",
        "outputId": "a97a4dca-161a-4169-94a9-3939e111c690",
        "colab": {
          "base_uri": "https://localhost:8080/",
          "height": 785
        }
      },
      "source": [
        "d=1\n",
        "filtered_sents = []\n",
        "for lemma in lemmas:\n",
        "    t=[]\n",
        "    for word in lemma:\n",
        "            if word not in stopwords.words('english') and word!=\".\":\n",
        "                t.append(word)\n",
        "    print(\"Sentence No.\"+str(d))\n",
        "    print(\"Before Removal : \",lemma)\n",
        "    print(\"After Removal : \" ,t)\n",
        "    print(\"*\"*20)\n",
        "    filtered_sents.append(t)\n",
        "    d+=1"
      ],
      "execution_count": null,
      "outputs": [
        {
          "output_type": "stream",
          "text": [
            "Sentence No.1\n",
            "Before Removal :  ['Indians', 'give', 'special', 'importance', 'to', 'their', 'festivals', '.']\n",
            "After Removal :  ['Indians', 'give', 'special', 'importance', 'festivals']\n",
            "********************\n",
            "Sentence No.2\n",
            "Before Removal :  ['Special', 'arrangements', 'be', 'make', 'for', 'the', 'celebration', 'of', 'various', 'festivals', 'each', 'year', '.']\n",
            "After Removal :  ['Special', 'arrangements', 'make', 'celebration', 'various', 'festivals', 'year']\n",
            "********************\n",
            "Sentence No.3\n",
            "Before Removal :  ['Be', 'it', 'the', 'villages', 'or', 'the', 'big', 'cities', 'there', 'be', 'joy', 'all', 'around', '.']\n",
            "After Removal :  ['Be', 'villages', 'big', 'cities', 'joy', 'around']\n",
            "********************\n",
            "Sentence No.4\n",
            "Before Removal :  ['All', 'the', 'place', 'be', 'deck', 'up', 'during', 'the', 'festival', 'season', '.']\n",
            "After Removal :  ['All', 'place', 'deck', 'festival', 'season']\n",
            "********************\n",
            "Sentence No.5\n",
            "Before Removal :  ['Some', 'of', 'the', 'main', 'Indian', 'festivals', 'include', 'Diwali', ',', 'Holi', ',', 'Raksha', 'Bandhan', ',', 'Ganesh', 'Chaturthi', ',', 'Durga', 'Puja', ',', 'Dussehra', ',', 'Pongal', 'and', 'Bhai', 'Duj', '.']\n",
            "After Removal :  ['Some', 'main', 'Indian', 'festivals', 'include', 'Diwali', ',', 'Holi', ',', 'Raksha', 'Bandhan', ',', 'Ganesh', 'Chaturthi', ',', 'Durga', 'Puja', ',', 'Dussehra', ',', 'Pongal', 'Bhai', 'Duj']\n",
            "********************\n",
            "Sentence No.6\n",
            "Before Removal :  ['People', 'in', 'our', 'country', 'love', 'celebrate', 'the', 'festivals', 'with', 'their', 'near', 'and', 'dear', 'ones', '.']\n",
            "After Removal :  ['People', 'country', 'love', 'celebrate', 'festivals', 'near', 'dear', 'ones']\n",
            "********************\n",
            "Sentence No.7\n",
            "Before Removal :  ['Each', 'Indian', 'festival', 'have', 'its', 'own', 'unique', 'way', 'of', 'celebration', 'and', 'people', 'follow', 'the', 'tradition', 'while', 'celebrate', 'the', 'same', '.']\n",
            "After Removal :  ['Each', 'Indian', 'festival', 'unique', 'way', 'celebration', 'people', 'follow', 'tradition', 'celebrate']\n",
            "********************\n",
            "Sentence No.8\n",
            "Before Removal :  ['However', ',', 'some', 'things', 'remain', 'common', 'for', 'instance', 'people', 'decorate', 'their', 'house', 'with', 'flower', 'and', 'light', 'during', 'the', 'festivals', 'and', 'wear', 'new', 'clothe', '.']\n",
            "After Removal :  ['However', ',', 'things', 'remain', 'common', 'instance', 'people', 'decorate', 'house', 'flower', 'light', 'festivals', 'wear', 'new', 'clothe']\n",
            "********************\n",
            "Sentence No.9\n",
            "Before Removal :  ['They', 'visit', 'each', 'other', 'and', 'exchange', 'gift', '.']\n",
            "After Removal :  ['They', 'visit', 'exchange', 'gift']\n",
            "********************\n",
            "Sentence No.10\n",
            "Before Removal :  ['Special', 'sweets', 'be', 'prepare', 'at', 'home', 'to', 'treat', 'the', 'guests', '.']\n",
            "After Removal :  ['Special', 'sweets', 'prepare', 'home', 'treat', 'guests']\n",
            "********************\n",
            "Sentence No.11\n",
            "Before Removal :  ['People', 'of', 'India', 'also', 'hold', 'great', 'regard', 'for', 'the', 'National', 'festivals', 'of', 'the', 'country', '.']\n",
            "After Removal :  ['People', 'India', 'also', 'hold', 'great', 'regard', 'National', 'festivals', 'country']\n",
            "********************\n"
          ],
          "name": "stdout"
        }
      ]
    },
    {
      "cell_type": "code",
      "metadata": {
        "id": "iZ5izyrzLc4q"
      },
      "source": [
        "import spacy\n",
        "nlp = spacy.load('en_core_web_sm')"
      ],
      "execution_count": null,
      "outputs": []
    },
    {
      "cell_type": "code",
      "metadata": {
        "id": "llWYpbiXLl2i",
        "outputId": "2ce1b1c5-4de5-4172-8425-3d831165d2bd",
        "colab": {
          "base_uri": "https://localhost:8080/",
          "height": 1000
        }
      },
      "source": [
        "d=1\n",
        "dependency_parse=[]\n",
        "\n",
        "for fs in filtered_sents:\n",
        "  t=''\n",
        "  for dp in fs:\n",
        "    t=t+dp+' '\n",
        "  dependency_parse.append(nlp(t))\n",
        "for dp in dependency_parse:\n",
        "  print(\"Sentence No.\"+str(d)+\" \")\n",
        "  for token in dp:\n",
        "    print(token.text,token.tag_, token.head.text, token.dep_)\n",
        "  print(\"\")\n",
        "  d+=1\n",
        "\n",
        "    \n",
        "\n"
      ],
      "execution_count": null,
      "outputs": [
        {
          "output_type": "stream",
          "text": [
            "Sentence No.1 \n",
            "Indians NNPS give nsubj\n",
            "give VBP give ROOT\n",
            "special JJ festivals amod\n",
            "importance NN festivals compound\n",
            "festivals NNS give dobj\n",
            "\n",
            "Sentence No.2 \n",
            "Special JJ arrangements amod\n",
            "arrangements NNS make nsubj\n",
            "make VBP make ROOT\n",
            "celebration NN make dobj\n",
            "various JJ festivals amod\n",
            "festivals NNS year compound\n",
            "year NN make npadvmod\n",
            "\n",
            "Sentence No.3 \n",
            "Be VB Be ROOT\n",
            "villages VBZ Be attr\n",
            "big JJ cities amod\n",
            "cities NNS joy compound\n",
            "joy VBP villages dobj\n",
            "around RB Be advmod\n",
            "\n",
            "Sentence No.4 \n",
            "All DT season det\n",
            "place NN season compound\n",
            "deck NN season compound\n",
            "festival NN season compound\n",
            "season NN season ROOT\n",
            "\n",
            "Sentence No.5 \n",
            "Some DT festivals det\n",
            "main JJ festivals amod\n",
            "Indian JJ festivals amod\n",
            "festivals NNS include nsubj\n",
            "include VBP include ROOT\n",
            "Diwali NNP include dobj\n",
            ", , Diwali punct\n",
            "Holi NNP Diwali conj\n",
            ", , Holi punct\n",
            "Raksha NNP Bandhan compound\n",
            "Bandhan NNP Holi conj\n",
            ", , Bandhan punct\n",
            "Ganesh NNP Chaturthi compound\n",
            "Chaturthi NNP Bandhan conj\n",
            ", , Chaturthi punct\n",
            "Durga NNP Puja compound\n",
            "Puja NNP Chaturthi conj\n",
            ", , Puja punct\n",
            "Dussehra NNP Puja conj\n",
            ", , Dussehra punct\n",
            "Pongal NNP Bhai compound\n",
            "Bhai NNP Duj compound\n",
            "Duj NNP Dussehra conj\n",
            "\n",
            "Sentence No.6 \n",
            "People NNS country compound\n",
            "country NN love nsubj\n",
            "love NN celebrate nsubj\n",
            "celebrate VBP celebrate ROOT\n",
            "festivals NNS celebrate dobj\n",
            "near IN festivals prep\n",
            "dear JJ ones amod\n",
            "ones NNS near pobj\n",
            "\n",
            "Sentence No.7 \n",
            "Each DT festival det\n",
            "Indian JJ festival amod\n",
            "festival NN follow npadvmod\n",
            "unique JJ way amod\n",
            "way NN festival npadvmod\n",
            "celebration NN people compound\n",
            "people NNS follow nsubj\n",
            "follow VBP follow ROOT\n",
            "tradition NN celebrate compound\n",
            "celebrate NN follow dobj\n",
            "\n",
            "Sentence No.8 \n",
            "However RB remain advmod\n",
            ", , remain punct\n",
            "things NNS remain nsubj\n",
            "remain VBP remain ROOT\n",
            "common JJ instance amod\n",
            "instance NN people compound\n",
            "people NNS decorate nsubj\n",
            "decorate VBP decorate ROOT\n",
            "house NNP flower compound\n",
            "flower NNP festivals compound\n",
            "light NN festivals amod\n",
            "festivals NNS wear nsubj\n",
            "wear VBP decorate ccomp\n",
            "new NNP clothe amod\n",
            "clothe NNP wear dobj\n",
            "\n",
            "Sentence No.9 \n",
            "They PRP visit nsubj\n",
            "visit VBP visit ROOT\n",
            "exchange NN gift compound\n",
            "gift NN visit dobj\n",
            "\n",
            "Sentence No.10 \n",
            "Special JJ sweets amod\n",
            "sweets NNS prepare nsubj\n",
            "prepare VBP prepare ROOT\n",
            "home NN prepare dobj\n",
            "treat NN prepare ccomp\n",
            "guests NNS treat dobj\n",
            "\n",
            "Sentence No.11 \n",
            "People NNS hold npadvmod\n",
            "India NNP hold nsubj\n",
            "also RB hold advmod\n",
            "hold VBP hold ROOT\n",
            "great JJ regard amod\n",
            "regard NN country compound\n",
            "National JJ festivals compound\n",
            "festivals NNS country compound\n",
            "country NN hold dobj\n",
            "\n"
          ],
          "name": "stdout"
        }
      ]
    },
    {
      "cell_type": "code",
      "metadata": {
        "id": "_HU-uRymQnGF",
        "outputId": "f69b4431-5e32-4880-efbe-b80f6f4a5478",
        "colab": {
          "base_uri": "https://localhost:8080/",
          "height": 884
        }
      },
      "source": [
        "d=1\n",
        "for dp in dependency_parse:\n",
        "  print(\"Sentence No.\"+str(d)+\" \")\n",
        "  for chunk in dp.noun_chunks:\n",
        "    print(chunk)\n",
        "  print(\"\")\n",
        "  d+=1"
      ],
      "execution_count": null,
      "outputs": [
        {
          "output_type": "stream",
          "text": [
            "Sentence No.1 \n",
            "Indians\n",
            "special importance festivals\n",
            "\n",
            "Sentence No.2 \n",
            "Special arrangements\n",
            "celebration\n",
            "\n",
            "Sentence No.3 \n",
            "\n",
            "Sentence No.4 \n",
            "All place deck festival season\n",
            "\n",
            "Sentence No.5 \n",
            "Some main Indian festivals\n",
            "Diwali\n",
            "Holi\n",
            "Raksha Bandhan\n",
            "Ganesh Chaturthi\n",
            "Durga Puja\n",
            "Dussehra\n",
            "Pongal Bhai Duj\n",
            "\n",
            "Sentence No.6 \n",
            "People country\n",
            "festivals\n",
            "dear ones\n",
            "\n",
            "Sentence No.7 \n",
            "celebration people\n",
            "tradition celebrate\n",
            "\n",
            "Sentence No.8 \n",
            "things\n",
            "common instance people\n",
            "house flower light festivals\n",
            "new clothe\n",
            "\n",
            "Sentence No.9 \n",
            "They\n",
            "exchange gift\n",
            "\n",
            "Sentence No.10 \n",
            "Special sweets\n",
            "home\n",
            "guests\n",
            "\n",
            "Sentence No.11 \n",
            "India\n",
            "great regard National festivals country\n",
            "\n"
          ],
          "name": "stdout"
        }
      ]
    },
    {
      "cell_type": "code",
      "metadata": {
        "id": "QQ64__c1ZZLt",
        "outputId": "7d555fa8-d6ec-4dc3-c1a8-3aaca033abd6",
        "colab": {
          "base_uri": "https://localhost:8080/",
          "height": 544
        }
      },
      "source": [
        "d=1\n",
        "for dp in dependency_parse:\n",
        "  print(\"Sentence No.\"+str(d)+\" \")\n",
        "  for ent in dp.ents:\n",
        "    print(ent.text, ent.start_char, ent.end_char,ent.label_, spacy.explain(ent.label_))\n",
        "  print(\"\")\n",
        "  d+=1"
      ],
      "execution_count": null,
      "outputs": [
        {
          "output_type": "stream",
          "text": [
            "Sentence No.1 \n",
            "Indians 0 7 NORP Nationalities or religious or political groups\n",
            "\n",
            "Sentence No.2 \n",
            "\n",
            "Sentence No.3 \n",
            "\n",
            "Sentence No.4 \n",
            "\n",
            "Sentence No.5 \n",
            "Indian 10 16 NORP Nationalities or religious or political groups\n",
            "Diwali 35 41 PERSON People, including fictional\n",
            "Holi 44 48 ORG Companies, agencies, institutions, etc.\n",
            "Raksha Bandhan 51 65 PERSON People, including fictional\n",
            "Durga Puja 87 97 PERSON People, including fictional\n",
            "Dussehra 100 108 PERSON People, including fictional\n",
            "\n",
            "Sentence No.6 \n",
            "\n",
            "Sentence No.7 \n",
            "Indian 5 11 NORP Nationalities or religious or political groups\n",
            "\n",
            "Sentence No.8 \n",
            "\n",
            "Sentence No.9 \n",
            "\n",
            "Sentence No.10 \n",
            "\n",
            "Sentence No.11 \n",
            "India 7 12 GPE Countries, cities, states\n",
            "\n"
          ],
          "name": "stdout"
        }
      ]
    },
    {
      "cell_type": "code",
      "metadata": {
        "id": "B50VGlVxz-Cn",
        "outputId": "74f52ac8-a443-4d5d-bd63-38fe200556ba",
        "colab": {
          "base_uri": "https://localhost:8080/",
          "height": 496
        }
      },
      "source": [
        "pip install neuralcoref\n"
      ],
      "execution_count": null,
      "outputs": [
        {
          "output_type": "stream",
          "text": [
            "Requirement already satisfied: neuralcoref in /usr/local/lib/python3.6/dist-packages (4.0)\n",
            "Requirement already satisfied: requests<3.0.0,>=2.13.0 in /usr/local/lib/python3.6/dist-packages (from neuralcoref) (2.23.0)\n",
            "Requirement already satisfied: spacy>=2.1.0 in /usr/local/lib/python3.6/dist-packages (from neuralcoref) (2.2.4)\n",
            "Requirement already satisfied: numpy>=1.15.0 in /usr/local/lib/python3.6/dist-packages (from neuralcoref) (1.18.5)\n",
            "Requirement already satisfied: boto3 in /usr/local/lib/python3.6/dist-packages (from neuralcoref) (1.15.14)\n",
            "Requirement already satisfied: urllib3!=1.25.0,!=1.25.1,<1.26,>=1.21.1 in /usr/local/lib/python3.6/dist-packages (from requests<3.0.0,>=2.13.0->neuralcoref) (1.24.3)\n",
            "Requirement already satisfied: chardet<4,>=3.0.2 in /usr/local/lib/python3.6/dist-packages (from requests<3.0.0,>=2.13.0->neuralcoref) (3.0.4)\n",
            "Requirement already satisfied: certifi>=2017.4.17 in /usr/local/lib/python3.6/dist-packages (from requests<3.0.0,>=2.13.0->neuralcoref) (2020.6.20)\n",
            "Requirement already satisfied: idna<3,>=2.5 in /usr/local/lib/python3.6/dist-packages (from requests<3.0.0,>=2.13.0->neuralcoref) (2.10)\n",
            "Requirement already satisfied: murmurhash<1.1.0,>=0.28.0 in /usr/local/lib/python3.6/dist-packages (from spacy>=2.1.0->neuralcoref) (1.0.2)\n",
            "Requirement already satisfied: catalogue<1.1.0,>=0.0.7 in /usr/local/lib/python3.6/dist-packages (from spacy>=2.1.0->neuralcoref) (1.0.0)\n",
            "Requirement already satisfied: cymem<2.1.0,>=2.0.2 in /usr/local/lib/python3.6/dist-packages (from spacy>=2.1.0->neuralcoref) (2.0.3)\n",
            "Requirement already satisfied: preshed<3.1.0,>=3.0.2 in /usr/local/lib/python3.6/dist-packages (from spacy>=2.1.0->neuralcoref) (3.0.2)\n",
            "Requirement already satisfied: plac<1.2.0,>=0.9.6 in /usr/local/lib/python3.6/dist-packages (from spacy>=2.1.0->neuralcoref) (1.1.3)\n",
            "Requirement already satisfied: tqdm<5.0.0,>=4.38.0 in /usr/local/lib/python3.6/dist-packages (from spacy>=2.1.0->neuralcoref) (4.41.1)\n",
            "Requirement already satisfied: setuptools in /usr/local/lib/python3.6/dist-packages (from spacy>=2.1.0->neuralcoref) (50.3.0)\n",
            "Requirement already satisfied: wasabi<1.1.0,>=0.4.0 in /usr/local/lib/python3.6/dist-packages (from spacy>=2.1.0->neuralcoref) (0.8.0)\n",
            "Requirement already satisfied: thinc==7.4.0 in /usr/local/lib/python3.6/dist-packages (from spacy>=2.1.0->neuralcoref) (7.4.0)\n",
            "Requirement already satisfied: srsly<1.1.0,>=1.0.2 in /usr/local/lib/python3.6/dist-packages (from spacy>=2.1.0->neuralcoref) (1.0.2)\n",
            "Requirement already satisfied: blis<0.5.0,>=0.4.0 in /usr/local/lib/python3.6/dist-packages (from spacy>=2.1.0->neuralcoref) (0.4.1)\n",
            "Requirement already satisfied: botocore<1.19.0,>=1.18.14 in /usr/local/lib/python3.6/dist-packages (from boto3->neuralcoref) (1.18.14)\n",
            "Requirement already satisfied: s3transfer<0.4.0,>=0.3.0 in /usr/local/lib/python3.6/dist-packages (from boto3->neuralcoref) (0.3.3)\n",
            "Requirement already satisfied: jmespath<1.0.0,>=0.7.1 in /usr/local/lib/python3.6/dist-packages (from boto3->neuralcoref) (0.10.0)\n",
            "Requirement already satisfied: importlib-metadata>=0.20; python_version < \"3.8\" in /usr/local/lib/python3.6/dist-packages (from catalogue<1.1.0,>=0.0.7->spacy>=2.1.0->neuralcoref) (2.0.0)\n",
            "Requirement already satisfied: python-dateutil<3.0.0,>=2.1 in /usr/local/lib/python3.6/dist-packages (from botocore<1.19.0,>=1.18.14->boto3->neuralcoref) (2.8.1)\n",
            "Requirement already satisfied: zipp>=0.5 in /usr/local/lib/python3.6/dist-packages (from importlib-metadata>=0.20; python_version < \"3.8\"->catalogue<1.1.0,>=0.0.7->spacy>=2.1.0->neuralcoref) (3.2.0)\n",
            "Requirement already satisfied: six>=1.5 in /usr/local/lib/python3.6/dist-packages (from python-dateutil<3.0.0,>=2.1->botocore<1.19.0,>=1.18.14->boto3->neuralcoref) (1.15.0)\n"
          ],
          "name": "stdout"
        }
      ]
    },
    {
      "cell_type": "code",
      "metadata": {
        "id": "3_mtrZ8w0MZE",
        "outputId": "042c93b0-9a07-469c-ea46-2f93d1e2d458",
        "colab": {
          "base_uri": "https://localhost:8080/",
          "height": 156
        }
      },
      "source": [
        "import spacy\n",
        "import neuralcoref\n",
        "nlp = spacy.load('en_core_web_sm')\n",
        "neuralcoref.add_to_pipe(nlp)"
      ],
      "execution_count": null,
      "outputs": [
        {
          "output_type": "stream",
          "text": [
            "/usr/lib/python3.6/importlib/_bootstrap.py:219: RuntimeWarning: spacy.morphology.Morphology size changed, may indicate binary incompatibility. Expected 104 from C header, got 112 from PyObject\n",
            "  return f(*args, **kwds)\n",
            "/usr/lib/python3.6/importlib/_bootstrap.py:219: RuntimeWarning: spacy.vocab.Vocab size changed, may indicate binary incompatibility. Expected 96 from C header, got 104 from PyObject\n",
            "  return f(*args, **kwds)\n",
            "/usr/lib/python3.6/importlib/_bootstrap.py:219: RuntimeWarning: spacy.tokens.span.Span size changed, may indicate binary incompatibility. Expected 72 from C header, got 80 from PyObject\n",
            "  return f(*args, **kwds)\n"
          ],
          "name": "stderr"
        },
        {
          "output_type": "execute_result",
          "data": {
            "text/plain": [
              "<spacy.lang.en.English at 0x7fa2c842da90>"
            ]
          },
          "metadata": {
            "tags": []
          },
          "execution_count": 19
        }
      ]
    },
    {
      "cell_type": "code",
      "metadata": {
        "id": "0YGInNsy20HW"
      },
      "source": [
        ""
      ],
      "execution_count": null,
      "outputs": []
    },
    {
      "cell_type": "code",
      "metadata": {
        "id": "2ovHPkSE3QA2"
      },
      "source": [
        ""
      ],
      "execution_count": null,
      "outputs": []
    }
  ]
}